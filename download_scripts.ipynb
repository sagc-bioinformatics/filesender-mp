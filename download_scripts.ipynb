{
 "cells": [
  {
   "cell_type": "code",
   "execution_count": 1,
   "id": "c9cae81a-2aea-4fac-b3b9-8a25738e2b77",
   "metadata": {},
   "outputs": [
    {
     "name": "stdout",
     "output_type": "stream",
     "text": [
      "The history saving thread hit an unexpected error (OperationalError('attempt to write a readonly database')).History will not be written to the database.\n"
     ]
    }
   ],
   "source": [
    "import requests\n",
    "import xml.etree.ElementTree as ET\n",
    "from html.parser import HTMLParser"
   ]
  },
  {
   "cell_type": "code",
   "execution_count": null,
   "id": "0dbe8524-a52c-4689-bb92-a835c6141d37",
   "metadata": {},
   "outputs": [],
   "source": []
  },
  {
   "cell_type": "code",
   "execution_count": null,
   "id": "c55bc9b1-5592-4cad-933d-91062ef4450e",
   "metadata": {},
   "outputs": [],
   "source": []
  },
  {
   "cell_type": "code",
   "execution_count": 2,
   "id": "7792f381-240d-4733-8807-adfcf8cd10d5",
   "metadata": {},
   "outputs": [
    {
     "data": {
      "text/plain": [
       "\u001b[0;31mSignature:\u001b[0m \u001b[0mrequests\u001b[0m\u001b[0;34m.\u001b[0m\u001b[0mget\u001b[0m\u001b[0;34m(\u001b[0m\u001b[0murl\u001b[0m\u001b[0;34m,\u001b[0m \u001b[0mparams\u001b[0m\u001b[0;34m=\u001b[0m\u001b[0;32mNone\u001b[0m\u001b[0;34m,\u001b[0m \u001b[0;34m**\u001b[0m\u001b[0mkwargs\u001b[0m\u001b[0;34m)\u001b[0m\u001b[0;34m\u001b[0m\u001b[0;34m\u001b[0m\u001b[0m\n",
       "\u001b[0;31mDocstring:\u001b[0m\n",
       "Sends a GET request.\n",
       "\n",
       ":param url: URL for the new :class:`Request` object.\n",
       ":param params: (optional) Dictionary, list of tuples or bytes to send\n",
       "    in the query string for the :class:`Request`.\n",
       ":param \\*\\*kwargs: Optional arguments that ``request`` takes.\n",
       ":return: :class:`Response <Response>` object\n",
       ":rtype: requests.Response\n",
       "\u001b[0;31mFile:\u001b[0m      ~/micromamba/lib/python3.10/site-packages/requests/api.py\n",
       "\u001b[0;31mType:\u001b[0m      function"
      ]
     },
     "metadata": {},
     "output_type": "display_data"
    }
   ],
   "source": [
    "requests.get?"
   ]
  },
  {
   "cell_type": "code",
   "execution_count": null,
   "id": "dd9194b4-0a52-4493-974f-d117468d3f08",
   "metadata": {},
   "outputs": [],
   "source": []
  },
  {
   "cell_type": "raw",
   "id": "5abb42d8-706c-457e-9305-f939eb4b3a35",
   "metadata": {},
   "source": [
    "\n",
    "def download_html(url):\n",
    "    try:\n",
    "        response = requests.get(url)\n",
    "        response.raise_for_status()  # Check if the request was successful\n",
    "        return response.text\n",
    "    except requests.exceptions.RequestException as e:\n",
    "        print(f\"An error occurred: {e}\")\n",
    "        return None\n",
    "\n",
    "\n",
    "class MyHTMLParser(HTMLParser):\n",
    "    def __init__(self):\n",
    "        super().__init__()\n",
    "        self.capture_data = False\n",
    "        self.target_class = \"\"\n",
    "        self.captured_data = []\n",
    "\n",
    "    def handle_starttag(self, tag, attrs):\n",
    "        if tag == \"span\":\n",
    "            for attr in attrs:\n",
    "                if attr[0] == \"class\" and attr[1] == self.target_class:\n",
    "                    self.capture_data = True\n",
    "\n",
    "    def handle_endtag(self, tag):\n",
    "        if tag == \"span\" and self.capture_data:\n",
    "            self.capture_data = False\n",
    "\n",
    "    def handle_data(self, data):\n",
    "        if self.capture_data:\n",
    "            self.captured_data.append(data)\n",
    "\n",
    "    def extract_span_by_class(self, html, class_value):\n",
    "        self.target_class = class_value\n",
    "        self.captured_data = []\n",
    "        self.feed(html)\n",
    "        return self.captured_data\n"
   ]
  },
  {
   "cell_type": "code",
   "execution_count": 25,
   "id": "580f8efb-c2c4-45d9-a4a0-c92861912ebd",
   "metadata": {},
   "outputs": [],
   "source": [
    "\n",
    "def download_html(url):\n",
    "    try:\n",
    "        response = requests.get(url)\n",
    "        response.raise_for_status()  # Check if the request was successful\n",
    "        return response.text\n",
    "    except requests.exceptions.RequestException as e:\n",
    "        print(f\"An error occurred: {e}\")\n",
    "        return None\n",
    "\n",
    "\n",
    "class MyHTMLParser(HTMLParser):\n",
    "    def __init__(self):\n",
    "        super().__init__()\n",
    "        self.capture_data = False\n",
    "        self.target_class = \"\"\n",
    "        self.captured_data = []\n",
    "        self.file_ids = []\n",
    "\n",
    "    def handle_starttag(self, tag, attrs):\n",
    "        if tag == \"tr\":\n",
    "            for attr in attrs:\n",
    "                if attr[0] == self.target_class:\n",
    "                    # print(attr[0], attr[1])\n",
    "                    self.file_ids.append(attr[1])\n",
    "                    self.capture_data = True\n",
    "\n",
    "    def handle_endtag(self, tag):\n",
    "        if tag == \"tr\" and self.capture_data:\n",
    "            self.capture_data = False\n",
    "\n",
    "    def handle_data(self, data):\n",
    "        if self.capture_data:\n",
    "            self.captured_data.append(data)\n",
    "\n",
    "    def extract_span_by_class(self, html, class_value):\n",
    "        self.target_class = class_value\n",
    "        self.captured_data = []\n",
    "        self.feed(html)\n",
    "        # return self.captured_data\n",
    "        return self.file_ids\n"
   ]
  },
  {
   "cell_type": "code",
   "execution_count": null,
   "id": "a60ad5be-ff18-4b0f-8c84-0d9e2325438b",
   "metadata": {},
   "outputs": [],
   "source": []
  },
  {
   "cell_type": "code",
   "execution_count": 6,
   "id": "37a457e7-fa4f-483c-84dd-bdd03f8a7888",
   "metadata": {},
   "outputs": [],
   "source": [
    "\n",
    "url = \"https://www.example.com\"\n",
    "url = \"https://filesender.aarnet.edu.au/?s=download&token=d6be9395-9fc6-427f-b565-289cb32a16e2\"\n",
    "url = \"https://filesender.aarnet.edu.au/?s=download&token=205a5f13-6333-4f56-b126-742ebf09691e\"\n",
    "\n",
    "html_content = download_html(url)"
   ]
  },
  {
   "cell_type": "code",
   "execution_count": 7,
   "id": "2c4637b2-04c8-40ad-8c0c-e2c1bb3f042f",
   "metadata": {},
   "outputs": [
    {
     "data": {
      "text/plain": [
       "'<!DOCTYPE html>\\n<html xmlns=\"http://www.w3.org/1999/xhtml\" lang=\"en-au\" xml:lang=\"en-au\">\\n    <head>\\n        <meta http-equiv=\"Content-Type\" content=\"text/html; charset=UTF-8\" />\\n        <meta charset=\"utf-8\">\\n        <meta name=\"viewport\" content=\"width=device-width, initial-scale=1, shrink-to-fit=no\">\\n        <meta http-equiv=\"x-ua-compatible\" content=\"ie=edge\">\\n        <title>AARNet FileSender</title>\\n        <link type=\"text/css\" rel=\"stylesheet\" href=\"/lib/jquery-ui/jquery-ui.min.css\" />\\n        <link type=\"text/css\" rel=\"stylesheet\" href=\"/lib/font-awesome/css/font-awesome.min.css\" />\\n        <link type=\"text/css\" rel=\"stylesheet\" href=\"/lib/bootstrap/dist/css/bootstrap.min.css\" />\\n        <link type=\"text/css\" rel=\"stylesheet\" href=\"/lib/flag-icons/css/flag-icons.min.css\" />\\n        <link type=\"text/css\" rel=\"stylesheet\" href=\"/css/default.css\" />\\n        <link type=\"text/css\" rel=\"stylesheet\" href=\"/css/new-ui/styles.css\" />\\n        <link type=\"text/css\" rel=\"stylesheet\" href=\"/css/themes/default.css\" />\\n        <link type=\"text/css\" rel=\"stylesheet\" href=\"/css/aarnet.css\" />\\n        <link rel=\"apple-touch-icon\" sizes=\"180x180\" href=\"/skin/apple-touch-icon.png\">\\n        <link rel=\"icon\" type=\"image/png\" sizes=\"32x32\" href=\"/skin/favicon-32x32.png\">\\n        <link rel=\"icon\" type=\"image/png\" sizes=\"16x16\" href=\"/skin/favicon-16x16.png\">\\n        <link rel=\"manifest\" href=\"/skin/site.webmanifest\">\\n        <link rel=\"mask-icon\" href=\"/skin/safari-pinned-tab.svg\" color=\"#69757b\">\\n        <link rel=\"shortcut icon\" href=\"/skin/favicon.ico\">\\n        <meta name=\"msapplication-TileColor\" content=\"#69757b\">\\n        <meta name=\"msapplication-config\" content=\"/skin/browserconfig.xml\">\\n        <meta name=\"theme-color\" content=\"#ffffff\">\\n        <script type=\"text/javascript\" src=\"/js/crypter/filesystemwritablefilestream_sink.js\"></script>\\n        <script type=\"text/javascript\" src=\"/lib/jquery/jquery.min.js\"></script>\\n        <script type=\"text/javascript\" src=\"/lib/jquery-ui/jquery-ui.min.js\"></script>\\n        <script type=\"text/javascript\" src=\"/lib/promise-polyfill/polyfill.min.js\"></script>\\n        <script type=\"text/javascript\" src=\"/lib/web-streams-polyfill/dist/ponyfill.js\"></script>\\n        <script type=\"text/javascript\" src=\"/lib/webcrypto-shim/webcrypto-shim.min.js\"></script>\\n        <script type=\"text/javascript\" src=\"/lib/bootstrap/dist/js/bootstrap.bundle.min.js\"></script>\\n        <script type=\"text/javascript\" src=\"/lib/bootbox/dist/bootbox.all.min.js\"></script>\\n        <script type=\"text/javascript\" src=\"/js/filesender.js\"></script>\\n        <script type=\"text/javascript\" src=\"/js/lang.js\"></script>\\n        <script type=\"text/javascript\" src=\"/js/client.js\"></script>\\n        <script type=\"text/javascript\" src=\"/js/transfer.js\"></script>\\n        <script type=\"text/javascript\" src=\"/js/logger.js\"></script>\\n        <script type=\"text/javascript\" src=\"/js/ui.js\"></script>\\n        <script type=\"text/javascript\" src=\"/js/FileSaver.js\"></script>\\n        <script type=\"text/javascript\" src=\"/js/crypter/crypto_common.js\"></script>\\n        <script type=\"text/javascript\" src=\"/js/crypter/crypto_blob_reader.js\"></script>\\n        <script type=\"text/javascript\" src=\"/js/crypter/crypto_app.js\"></script>\\n        <script type=\"text/javascript\" src=\"/js/pbkdf2dialog.js\"></script>\\n        <script type=\"text/javascript\" src=\"/js/notification.js\"></script>\\n        <script type=\"text/javascript\" src=\"/lib/xregexp/xregexp-all.js\"></script>\\n        <script type=\"text/javascript\" src=\"/js/theme.js\"></script>\\n        <script type=\"text/javascript\" src=\"/js/terasender/terasender.js\"></script>\\n        <script type=\"text/javascript\" src=\"/filesender-config.js.php\"></script>\\n        <script type=\"text/javascript\" src=\"/rest.php/lang?callback=lang.setTranslations\"></script>\\n        <meta name=\"robots\" content=\"noindex, nofollow\" />\\n        <meta name=\"auth\" content=\"noindex, nofollow\" />\\n    </head>\\n    <body data-security-token=\"68b1c052-babf-49ad-83fb-b48c0ee2bd6e\" data-auth-type=\"\">\\n\\n<!-- template:menu start -->\\n\\n<!-- New UI header - BEGIN -->\\n<header>\\n    <nav>\\n        <a class=\"fs-link fs-link--no-hover\" href=\"/\">\\n            <div class=\"aarnet\"></div><div class=\"filesender\">FileSender</div>\\n        </a>\\n        <ul>\\n            <li><a class=\"fs-link \"  id=\"topmenu_help\" href=\"?s=help\"><i class=\"fa fa-question-circle\"></i> <span>Help</span></a></li><li><a class=\"fs-link \"  id=\"topmenu_about\" href=\"?s=about\"><i class=\"fa fa-info-circle\"></i> <span>About</span></a></li><li><a class=\"fs-link \"  id=\"topmenu_privacy\" href=\"?s=privacy\"><i class=\"fa fa-lock\"></i> <span>Privacy</span></a></li><li><a class=\"fs-link\" href=\"https://filesender.aarnet.edu.au/simplesaml/module.php/saml/sp/login/default-sp?ReturnTo=https%3A%2F%2Ffilesender.aarnet.edu.au%2F%3Fs%3DuploadAuthId=default-sp&amp;ReturnTo=https%3A%2F%2Ffilesender.aarnet.edu.au%2F%3Fs%3Dupload\" id=\"topmenu_logon\"><i class=\"fa fa-sign-in\"></i> <span>Login</span></a></li>\\n        </ul>\\n    </nav>\\n</header> <!-- New UI header - END -->\\n\\n<!-- template:menu end -->\\n\\n<!-- template:page start -->\\n<!-- New UI main container - BEGIN -->\\n<main>\\n    <div id=\"page\" class=\"download_page\">\\n\\n        <noscript>\\n            <div class=\"error message\">\\n                This application heavily relies on Javascript, you must enable it to be able to start.\\n            </div>\\n        </noscript>\\n\\n        \\n<!-- template:download_page start -->\\n\\n<div class=\"fs-download\">\\n    <div class=\"container\">\\n        <div class=\"row\">\\n            <div class=\"col\">\\n                <div class=\"fs-download__title\">\\n                    <h1>paul.wang@adelaide.edu.au transferred these files</h1>\\n                    <p>This transfer expires in 40 days</p>\\n                </div>\\n            </div>\\n        </div>\\n\\n        <hr />\\n\\n        <div class=\"row\">\\n            <div class=\"col col-sm-12 col-md-5 col-lg-4\">\\n                <div class=\"fs-download__details\">\\n                    <h2>Transfer details</h2>\\n                    <div class=\"fs-info fs-info--aligned\">\\n                        <strong>Transfer sent on:</strong>\\n                        <span>Jul 15, 2024, 11:08:17\\u202fPM</span>\\n                    </div>\\n                    <div class=\"fs-info fs-info--aligned\">\\n                        <strong>Expiration date:</strong>\\n                        <span>Aug 24, 2024</span>\\n                    </div>\\n                    <div class=\"fs-info fs-info--aligned\">\\n                        <strong>From:</strong>\\n                        <span>paul.wang@adelaide.edu.au</span>\\n                    </div>\\n                                            <div class=\"fs-info fs-info--aligned\">\\n                            <strong>Subject:</strong>\\n                            <span>SAGCQA0754-2</span>\\n                        </div>\\n                                                                <div class=\"fs-info fs-info--aligned\">\\n                            <strong>Message:</strong>\\n                            <span>MGI run</span>\\n                        </div>\\n                                        <div class=\"fs-info fs-info--aligned\">\\n                        <strong>Transfer size:</strong>\\n                        <span>6.2 MB</span>\\n                    </div>\\n                </div>\\n            </div>\\n            <div class=\"col col-sm-12 col-md-7 col-lg-8\">\\n                <div class=\"fs-download__files\">\\n                    <h2>Download files</h2>\\n                    <p>Select the files you wish to download and download as .zip or .tar file, or download a file seperately.</p>\\n\\n                                            <div class=\"fs-download__check-all select_all\">\\n                            <label class=\"fs-checkbox\">\\n                                <label for=\"check-all\" class=\"select_all_text\">\\n                                    Click here to select all files\\n                                </label>\\n                                <input id=\"check-all\" type=\"checkbox\">\\n                                <span class=\"fs-checkbox__mark toggle-select-all\"></span>\\n                            </label>\\n                        </div>\\n                    \\n                    <div class=\"fs-transfer__list\">\\n                        <div class=\"fs-transfer__files\" data-count=\"3\">\\n                            <table class=\"fs-table files\">\\n                                <thead class=\"fs-transfer__files__thead\">\\n                                    <tr>\\n                                        <th scope=\"col\">Selected</th>\\n                                        <th scope=\"col\">File information</th>\\n                                    </tr>\\n                                </thead>\\n                                <tbody>\\n                                                                    <tr class=\"file\" data-id=\"22649701\"\\n                                        data-encrypted=\"\"\\n                                        data-mime=\"application/binary\"\\n                                        data-name=\"E200012836_L01.summaryReport.html\"\\n                                        data-size=\"331177\"\\n                                        data-encrypted-size=\"331200\"\\n                                        data-key-version=\"0\"\\n                                        data-key-salt=\"hMaPT3u2jk3BkDfG4rFO2InGoZpiBX18\"\\n                                        data-password-version=\"1\"\\n                                        data-password-encoding=\"none\"\\n                                        data-password-hash-iterations=\"150000\"\\n                                        data-client-entropy=\"\"\\n                                        data-fileiv=\"\"\\n                                        data-fileaead=\"\"\\n                                        data-transferid=\"3246760\"\\n                                    >\\n                                        <td class=\"fs-table__check-action\">\\n                                                                                            <label class=\"fs-checkbox select\" title=\"Select for archive download\">\\n                                                    <input id=\"check-22649701\" type=\"checkbox\">\\n                                                    <span class=\"fs-checkbox__mark\"></span>\\n                                                </label>\\n                                            \\n                                        </td>\\n                                        <td>\\n                                            <div>\\n                                                <span class=\"name\">E200012836_L01.summaryReport.html</span>\\n                                                <span class=\"size\">323.4 kB</span>\\n                                                <span class=\"downloadprogress\"></span>\\n                                                <span class=\"remove stage1\">\\n                                                    <a rel=\"nofollow\" href=\"https://filesender.aarnet.edu.au/download.php?token=205a5f13-6333-4f56-b126-742ebf09691e&amp;files_ids=22649701\" class=\"fs-button fs-button--small fs-button--transparent fs-button--info fs-button--no-text download\" title=\"Download file\">\\n                                                        <i class=\"fa fa-download\"></i>\\n                                                    </a>\\n                                                </span>\\n                                            </div>\\n                                        </td>\\n                                    </tr>\\n\\n                                                                    <tr class=\"file\" data-id=\"22649698\"\\n                                        data-encrypted=\"\"\\n                                        data-mime=\"application/binary\"\\n                                        data-name=\"SAGCQA0754-2.MGI_E200012836_multiqc_report.html\"\\n                                        data-size=\"6159393\"\\n                                        data-encrypted-size=\"6159424\"\\n                                        data-key-version=\"0\"\\n                                        data-key-salt=\"hMaPT3u2jk3BkDfG4rFO2InGoZpiBX18\"\\n                                        data-password-version=\"1\"\\n                                        data-password-encoding=\"none\"\\n                                        data-password-hash-iterations=\"150000\"\\n                                        data-client-entropy=\"\"\\n                                        data-fileiv=\"\"\\n                                        data-fileaead=\"\"\\n                                        data-transferid=\"3246760\"\\n                                    >\\n                                        <td class=\"fs-table__check-action\">\\n                                                                                            <label class=\"fs-checkbox select\" title=\"Select for archive download\">\\n                                                    <input id=\"check-22649698\" type=\"checkbox\">\\n                                                    <span class=\"fs-checkbox__mark\"></span>\\n                                                </label>\\n                                            \\n                                        </td>\\n                                        <td>\\n                                            <div>\\n                                                <span class=\"name\">SAGCQA0754-2.MGI_E200012836_multiqc_report.html</span>\\n                                                <span class=\"size\">5.9 MB</span>\\n                                                <span class=\"downloadprogress\"></span>\\n                                                <span class=\"remove stage1\">\\n                                                    <a rel=\"nofollow\" href=\"https://filesender.aarnet.edu.au/download.php?token=205a5f13-6333-4f56-b126-742ebf09691e&amp;files_ids=22649698\" class=\"fs-button fs-button--small fs-button--transparent fs-button--info fs-button--no-text download\" title=\"Download file\">\\n                                                        <i class=\"fa fa-download\"></i>\\n                                                    </a>\\n                                                </span>\\n                                            </div>\\n                                        </td>\\n                                    </tr>\\n\\n                                                                    <tr class=\"file\" data-id=\"22649704\"\\n                                        data-encrypted=\"\"\\n                                        data-mime=\"application/binary\"\\n                                        data-name=\"sample_readcounts.csv\"\\n                                        data-size=\"807\"\\n                                        data-encrypted-size=\"832\"\\n                                        data-key-version=\"0\"\\n                                        data-key-salt=\"hMaPT3u2jk3BkDfG4rFO2InGoZpiBX18\"\\n                                        data-password-version=\"1\"\\n                                        data-password-encoding=\"none\"\\n                                        data-password-hash-iterations=\"150000\"\\n                                        data-client-entropy=\"\"\\n                                        data-fileiv=\"\"\\n                                        data-fileaead=\"\"\\n                                        data-transferid=\"3246760\"\\n                                    >\\n                                        <td class=\"fs-table__check-action\">\\n                                                                                            <label class=\"fs-checkbox select\" title=\"Select for archive download\">\\n                                                    <input id=\"check-22649704\" type=\"checkbox\">\\n                                                    <span class=\"fs-checkbox__mark\"></span>\\n                                                </label>\\n                                            \\n                                        </td>\\n                                        <td>\\n                                            <div>\\n                                                <span class=\"name\">sample_readcounts.csv</span>\\n                                                <span class=\"size\">807 B</span>\\n                                                <span class=\"downloadprogress\"></span>\\n                                                <span class=\"remove stage1\">\\n                                                    <a rel=\"nofollow\" href=\"https://filesender.aarnet.edu.au/download.php?token=205a5f13-6333-4f56-b126-742ebf09691e&amp;files_ids=22649704\" class=\"fs-button fs-button--small fs-button--transparent fs-button--info fs-button--no-text download\" title=\"Download file\">\\n                                                        <i class=\"fa fa-download\"></i>\\n                                                    </a>\\n                                                </span>\\n                                            </div>\\n                                        </td>\\n                                    </tr>\\n\\n                                \\n                                </tbody>\\n                            </table>\\n\\n                            <div class=\"transfer\" data-id=\"3246760\"></div>\\n                            <div class=\"rid\" data-id=\"0\"></div>\\n                        </div>\\n                    </div>\\n\\n                    <div class=\"fieldcontainer\" id=\"encryption_description_not_supported\">\\n                        <i class=\"fa fa-exclamation-triangle colorffaa00 \" aria-hidden=\"true\"></i>&nbsp;&nbsp;&nbsp;&nbsp;File decryption not supported by your browser. Please try again with the latest Firefox, Internet Explorer, Safari or Chrome\\n                    </div>\\n\\n                    <div class=\"fs-download__total-size\">\\n                        <strong>Size of selected files</strong>\\n                        <span>486mb</span>\\n                    </div>\\n\\n                                            <div class=\"fs-download__actions archive\">\\n                            <button type=\"button\" class=\"fs-button archive_download_frame archive_download\" title=\"Download as single (.zip) file\">\\n                                <i class=\"fa fa-download\"></i>\\n                                <span>Download as single (.zip) file</span>\\n                            </button>\\n                                                            <button type=\"button\" class=\"fs-button archive_tar_download_frame archive_tar_download\" title=\"Download as single (.tar) file\">\\n                                    <i class=\"fa fa-download\"></i>\\n                                    <span>Download as single (.tar) file</span>\\n                                </button>\\n\\n                            \\n                            <div class=\"archive_download_framex hidden\">\\n                                <form id=\"dlarchivepost\" action=\"https://filesender.aarnet.edu.au/download.php?token=205a5f13-6333-4f56-b126-742ebf09691e\" method=\"post\">\\n                                    <input class=\"hidden archivefileids\" name=\"files_ids\" value=\"22649704,22649698,22649701\" />\\n                                    <input id=\"dlarchivepostformat\" class=\"hidden \" name=\"archive_format\" value=\"zip\" />\\n                                    <button type=\"submit\"\\n                                            name=\"your_name\" value=\"your_value\"\\n                                            class=\"btn-link\">DOWNLOAD\\n                                    </button>\\n                                </form>\\n                            </div>\\n                            <span class=\"downloadprogress\"/>\\n                        </div>\\n                    \\n                    <div class=\"fs-download__zip64-info archive_message mac_archive_message\">\\n                        <p>\\n                            In order to support large files, all compressed archive (.zip files) are in the zip64 format which unfortunately the standard uncompress utility of Apple OS X can not handle.<br />  You\\'ll find a alternative uncompress software here : <a href=\"https://theunarchiver.com/\" target=\"_blank\">The Unarchiver</a>.\\n                        </p>\\n                    </div>\\n                </div>\\n            </div>\\n        </div>\\n    </div>\\n</div>\\n\\n    \\n\\n    \\n\\n<div class=\"fs-download verify_email_to_download\">\\n    <div class=\"container\">\\n        <div class=\"row\">\\n            <div class=\"col\">\\n                <h2>Verify your email address to download</h2>\\n                <table columns=\"2\" border=\"1\">\\n                    <col style=\"width:25%\">\\n                    <col style=\"width:75%\">\\n                    <tr>\\n                        <td>\\n                            <a href=\"#\" class=\"verificationcodesendtoemail\">\\n                                <span class=\"fa fa-paper-plane fa-lg\"></span>&nbsp;Send\\n                            </a>\\n                        </td>\\n                        <td class=\"verify_labels2\">Send verification code to your email address</td>\\n                    </tr>\\n                    <tr>\\n                        <td colspan=\"2\">\\n                            <p>And then enter the verification code below to continue. You will have 15 minutes to complete this process.</p>\\n                        </td>\\n                    </tr>\\n                    <tr class=\"verificationcodesendpage\">\\n                        <td>\\n                            <a class=\"verificationcodesend verificationcodesendelement\" href=\"#\">\\n                                <span class=\"fa fa-unlock fa-lg\"></span>&nbsp;Verify\\n                            </a>\\n                        </td>\\n                        <td class=\"verify_labels2\">\\n                            <input id=\"verificationcode\" class=\"verificationcode verify_labels verificationcodesendelement\" name=\"verificationcode\" type=\"text\"/>\\n                        </td>\\n                    </tr>\\n                </table>\\n            </div>\\n        </div>\\n    </div>\\n</div>\\n\\n<div class=\"fs-download\">\\n    <div class=\"container\">\\n        <div class=\"row\">\\n            <div class=\"col\">\\n                <table class=\"table borderless general\" data-transfer-size=\"6491377\">\\n                    <tbody>\\n                                <tr><td align=\"right\" class=\"from\">From</td><td colspan=\"5\">paul.wang@adelaide.edu.au</td></tr>\\n                                <tr>\\n                            <td align=\"right\" class=\"created\">Created</td><td>Jul 15, 2024</td>\\n                            <td align=\"right\" class=\"expires\">Expiry date</td><td>Aug 24, 2024</td>\\n                            <td align=\"right\" class=\"size\">Size</td><td>6.2 MB</td>\\n                        </tr>\\n                                <tr><td align=\"right\" class=\"subject\">Subject</td><td>SAGCQA0754-2</td></tr>\\n        \\n                                <tr><td align=\"right\" class=\"message\">Message</td><td><p>MGI run</p></td></tr>\\n                            </tbody>\\n                </table>\\n            </div>\\n        </div>\\n    </div>\\n</div>\\n\\n\\n<div class=\"transfer_is_encrypted not_displayed\">\\n    0</div>\\n\\n<script type=\"text/javascript\" src=\"/js/download_page.js\"></script>\\n\\n<!-- template:download_page end -->\\n    </div>\\n</main> <!-- New UI main container - END -->\\n\\n<!-- template:page end -->\\n        <footer>\\n            <div class=\"container\">\\n                <div class=\"fs-footer-container\">\\n                    <small>FileSender Silver and Gold contributors:</small>\\n                    <img class=\"fs-footer-container__brand fs-footer-container__brand--desktop\" src=\"https://filesender.aarnet.edu.au//images/filesender-initiative.png\" alt=\"Brand\">\\n                    <img class=\"fs-footer-container__brand fs-footer-container__brand--mobile\" src=\"https://filesender.aarnet.edu.au//images/filesender-initiative_mobile.png\" alt=\"Brand\">\\n                </div>\\n            </div>\\n\\n            \\n        </footer>\\n    </body>\\n</html>\\n'"
      ]
     },
     "execution_count": 7,
     "metadata": {},
     "output_type": "execute_result"
    }
   ],
   "source": [
    "html_content"
   ]
  },
  {
   "cell_type": "code",
   "execution_count": null,
   "id": "8e829e58-0c4f-46a7-a876-6051cbe3c7a1",
   "metadata": {},
   "outputs": [],
   "source": []
  },
  {
   "cell_type": "code",
   "execution_count": 27,
   "id": "24c488c9-ba2a-403c-8a82-99c5ee35223a",
   "metadata": {},
   "outputs": [],
   "source": [
    "\n",
    "parser = MyHTMLParser()\n",
    "directlinks = parser.extract_span_by_class(html_content, \"directlink\")\n",
    "directlinks = [x.split(\"Direct Link: \")[1].strip() for x in directlinks]\n",
    "token = url.split(\"&token=\")[1]\n",
    "fileids = [x.split(\"&files_ids=\")[1] for x in directlinks]\n"
   ]
  },
  {
   "cell_type": "code",
   "execution_count": 29,
   "id": "60975e26-2bfc-4fd1-bcd1-dd2478be173f",
   "metadata": {},
   "outputs": [],
   "source": [
    "fileids = parser.extract_span_by_class(html_content, \"data-id\")"
   ]
  },
  {
   "cell_type": "code",
   "execution_count": 30,
   "id": "d973a5e6-c9b4-4e7d-80f1-6be0557c92a9",
   "metadata": {},
   "outputs": [],
   "source": [
    "baseurl = \"https://filesender.aarnet.edu.au/download.php\"\n",
    "token=\"TOKEN\"\n",
    "directlinks = [ f\"{baseurl}?token={token}&files_ids={x}\" for x in fileids ]\n"
   ]
  },
  {
   "cell_type": "code",
   "execution_count": 31,
   "id": "9d855a73-8007-4a75-b5e7-5ca7aae01c3b",
   "metadata": {},
   "outputs": [
    {
     "data": {
      "text/plain": [
       "['https://filesender.aarnet.edu.au/download.php?token=TOKEN&files_ids=22649701',\n",
       " 'https://filesender.aarnet.edu.au/download.php?token=TOKEN&files_ids=22649698',\n",
       " 'https://filesender.aarnet.edu.au/download.php?token=TOKEN&files_ids=22649704',\n",
       " 'https://filesender.aarnet.edu.au/download.php?token=TOKEN&files_ids=22649701',\n",
       " 'https://filesender.aarnet.edu.au/download.php?token=TOKEN&files_ids=22649698',\n",
       " 'https://filesender.aarnet.edu.au/download.php?token=TOKEN&files_ids=22649704']"
      ]
     },
     "execution_count": 31,
     "metadata": {},
     "output_type": "execute_result"
    }
   ],
   "source": [
    "directlinks"
   ]
  },
  {
   "cell_type": "code",
   "execution_count": null,
   "id": "ba26a9ca-02db-4041-99c3-264982b238b4",
   "metadata": {},
   "outputs": [],
   "source": [
    "\n",
    "\n",
    "\n",
    "\n",
    "def parse_url(u):\n",
    "    prefix = \"https://filesender.aarnet.edu.au/?s=download\"\n",
    "    if u.startswith(\"prefix\") == False:\n",
    "        return False, \"wrong prefix\"\n",
    "    bits = u[len(prefix)+1:].split(\"&\")\n",
    "    token = \"\"\n",
    "    for b_ in bits:\n",
    "        if b_.startswith(\"token_\"):\n",
    "            token = b_.split(\"=\")[1]\n",
    "    return True, token\n",
    "\n"
   ]
  },
  {
   "cell_type": "code",
   "execution_count": null,
   "id": "4cdfee33-a1fc-480a-9e45-c5ba88da7f85",
   "metadata": {},
   "outputs": [],
   "source": [
    "u=\"https://filesender.aarnet.edu.au/download.php?token=d6be9395-9fc6-427f-b565-289cb32a16e2&files_ids=22322589%2C22322355%2C22322460%2C22322286%2C22322646%2C22322397%2C22322496%2C22322271%2C22322595%2C22322385%2C22322676%2C22322358%2C22322547%2C22322253%2C22322661%2C22322340%2C22322640%2C22322313%2C22322685%2C22322361%2C22322619%2C22322301%2C22322631%2C22322319%2C22322190%2C22322136%2C22322127%2C22322124%2C22322265%2C22322196%2C22322217%2C22322163%2C22322229%2C22322157%2C22322205%2C22322148%2C22322199%2C22322145%2C22322247%2C22322184%2C22322232%2C22322166%2C22322244%2C22322175%2C22322322%2C22322250%2C22322220%2C22322169%2C22322379%2C22322316%2C22322292%2C22322226%2C22322574%2C22322406%2C22322505%2C22322388%2C22322562%2C22322400%2C22322610%2C22322454%2C22322613%2C22322481%2C22322529%2C22322442%2C22322553%2C22322448%2C22322541%2C22322472%2C22322568%2C22322520%2C22322478%2C22322433%2C22322469%2C22322331%2C22322304%2C22322238%2C22322367%2C22322259%2C22322376%2C22322295%2C22322268%2C22322193%2C22322283%2C22322208%2C22322370%2C22322274%2C22322256%2C22322181%2C22322334%2C22322223%2C22322463%2C22322307%2C22322415%2C22322280%2C22322364%2C22322262%2C22322424%2C22322277%2C22322142%2C22322130%2C22322298%2C22322211%2C22322235%2C22322172%2C22322325%2C22322241%2C22322289%2C22322214%2C22322160%2C22322133%2C22322178%2C22322154%2C22322373%2C22322337%2C22322202%2C22322187%2C22322151%2C22322139%2C22322592%2C22322538%2C22322487%2C22322403%2C22322571%2C22322475%2C22322604%2C22322502%2C22322625%2C22322577%2C22322682%2C22322532%2C22322679%2C22322535%2C22322583%2C22322421%2C22322664%2C22322511%2C22322673%2C22322526%2C22322655%2C22322445%2C22322607%2C22322412%2C22322634%2C22322439%2C22322499%2C22322310%2C22322517%2C22322328%2C22322556%2C22322346%2C22322550%2C22322352%2C22322598%2C22322394%2C22322667%2C22322484%2C22322616%2C22322409%2C22322628%2C22322430%2C22322652%2C22322457%2C22322565%2C22322343%2C22322586%2C22322391%2C22322580%2C22322382%2C22322559%2C22322349%2C22322643%2C22322466%2C22322637%2C22322436%2C22322601%2C22322418%2C22322691%2C22322508%2C22322697%2C22322544%2C22322649%2C22322451%2C22322658%2C22322490%2C22322688%2C22322523%2C22322694%2C22322514%2C22322622%2C22322427%2C22322670%2C22322493%2C22322121%2C22322700%2C22322703&archive_format=zip&transaction_id=0fa22c7f-d336-49d7-9d28-5738601762d4\"\n",
    "\n",
    "u=\"https://filesender.aarnet.edu.au/?s=download&token=d6be9395-9fc6-427f-b565-289cb32a16e2\""
   ]
  },
  {
   "cell_type": "code",
   "execution_count": null,
   "id": "5cd762ab-e497-494d-8554-1ef365cc0851",
   "metadata": {},
   "outputs": [],
   "source": [
    "prefix = \"https://filesender.aarnet.edu.au/?s=download\"\n",
    "if u.startswith(\"prefix\") == False:\n",
    "    print(\"wrong prefix\")\n",
    "bits = u[len(prefix)+1:].split(\"&\")\n",
    "bits"
   ]
  },
  {
   "cell_type": "code",
   "execution_count": null,
   "id": "6d6486f5-61ac-49a3-8024-e30a7874023c",
   "metadata": {},
   "outputs": [],
   "source": []
  }
 ],
 "metadata": {
  "kernelspec": {
   "display_name": "Python 3 (ipykernel)",
   "language": "python",
   "name": "python3"
  },
  "language_info": {
   "codemirror_mode": {
    "name": "ipython",
    "version": 3
   },
   "file_extension": ".py",
   "mimetype": "text/x-python",
   "name": "python",
   "nbconvert_exporter": "python",
   "pygments_lexer": "ipython3",
   "version": "3.10.14"
  }
 },
 "nbformat": 4,
 "nbformat_minor": 5
}
